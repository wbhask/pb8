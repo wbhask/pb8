{
 "cells": [
  {
   "cell_type": "code",
   "execution_count": 1,
   "id": "a0827494-e35a-4589-88a3-744e1eb779f3",
   "metadata": {},
   "outputs": [],
   "source": [
    "import pandas as pd"
   ]
  },
  {
   "cell_type": "code",
   "execution_count": 11,
   "id": "4117249f-7021-42ca-b348-70088c4d73a0",
   "metadata": {},
   "outputs": [],
   "source": [
    "# load dataset\n",
    "file_path = r\"C:\\Users\\abhas\\OneDrive\\Dokumen\\DataSource\\bh_investmentactivity.csv\"\n",
    "df = pd.read_csv(file_path)"
   ]
  },
  {
   "cell_type": "code",
   "execution_count": 10,
   "id": "e8b02529-4cd1-4a5e-9c5a-a51dd8a6f475",
   "metadata": {},
   "outputs": [
    {
     "name": "stdout",
     "output_type": "stream",
     "text": [
      "        SECURITY      VALUE    SHARES      PERIOD\n",
      "0  ALLY FINL INC  504589507  12719675  30/06/2024\n",
      "1  ALLY FINL INC  111229721   2803875  30/06/2024\n",
      "2  ALLY FINL INC  167732694   4228200  30/06/2024\n",
      "3  ALLY FINL INC  124444790   3137000  30/06/2024\n",
      "4  ALLY FINL INC  191854038   4836250  30/06/2024\n"
     ]
    }
   ],
   "source": [
    "print(df.head())"
   ]
  },
  {
   "cell_type": "code",
   "execution_count": 13,
   "id": "925e5e20-7e73-4d3e-a9ae-c521ba4efe28",
   "metadata": {},
   "outputs": [],
   "source": [
    "grouped_df = df.groupby(['SECURITY', 'PERIOD'], as_index=False).agg({\n",
    "    'VALUE': 'sum',\n",
    "    'SHARES': 'sum'\n",
    "})"
   ]
  },
  {
   "cell_type": "code",
   "execution_count": 14,
   "id": "a6619741-5cdc-4d37-83c5-2e7006715027",
   "metadata": {},
   "outputs": [],
   "source": [
    "output_path = r\"C:\\Users\\abhas\\OneDrive\\Dokumen\\DataSource\\bh_investmentactivity_grouped.csv\"\n",
    "grouped_df.to_csv(output_path, index=False)"
   ]
  },
  {
   "cell_type": "code",
   "execution_count": null,
   "id": "363684d1-f804-46b1-8838-73d9f9e7d57d",
   "metadata": {},
   "outputs": [],
   "source": []
  }
 ],
 "metadata": {
  "kernelspec": {
   "display_name": "Python 3 (ipykernel)",
   "language": "python",
   "name": "python3"
  },
  "language_info": {
   "codemirror_mode": {
    "name": "ipython",
    "version": 3
   },
   "file_extension": ".py",
   "mimetype": "text/x-python",
   "name": "python",
   "nbconvert_exporter": "python",
   "pygments_lexer": "ipython3",
   "version": "3.11.11"
  }
 },
 "nbformat": 4,
 "nbformat_minor": 5
}
